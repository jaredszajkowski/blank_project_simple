{
 "cells": [
  {
   "cell_type": "markdown",
   "metadata": {},
   "source": [
    "Example Project Using the ChartBook Template\n",
    "=============================================\n",
    "\n",
    "## About this project\n",
    "\n",
    "Lorem ipsum dolor sit amet, consectetur adipiscing elit, sed do eiusmod tempor incididunt ut labore et dolore magna aliqua. Ut enim ad minim veniam, quis nostrud exercitation ullamco laboris nisi ut aliquip ex ea commodo consequat. Duis aute irure dolor in reprehenderit in voluptate velit esse cillum dolore eu fugiat nulla pariatur. Excepteur sint occaecat cupidatat non proident, sunt in culpa qui officia deserunt mollit anim id est laborum.\n",
    "\n",
    "## Check out these notebooks\n",
    "\n",
    "- [01_example_notebook_interactive.ipynb](./01_example_notebook_interactive.html)\n",
    "- [02_example_with_dependencies.ipynb](./02_example_with_dependencies.html)\n",
    "- [03_public_repo_summary_charts.ipynb](./03_public_repo_summary_charts.html)\n",
    "- [04_ken_french_data.ipynb](./04_ken_french_data.html)"
   ]
  }
 ],
 "metadata": {
  "language_info": {
   "name": "python"
  }
 },
 "nbformat": 4,
 "nbformat_minor": 2
}
